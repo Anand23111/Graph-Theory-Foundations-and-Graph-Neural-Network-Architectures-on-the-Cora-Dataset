{
  "cells": [
    {
      "cell_type": "markdown",
      "metadata": {
        "id": "UxL9N8noxD4X"
      },
      "source": [
        "**Question 1: Foundational Graph Theorybold text**"
      ]
    },
    {
      "cell_type": "code",
      "execution_count": null,
      "metadata": {
        "colab": {
          "base_uri": "https://localhost:8080/"
        },
        "id": "ffmUKXOevzp7",
        "outputId": "6dbb4f28-b192-4a60-9e96-a5d872b0485e"
      },
      "outputs": [
        {
          "output_type": "stream",
          "name": "stdout",
          "text": [
            "Adjacency Matrix:\n",
            " [[0 1 1 0 0]\n",
            " [1 0 1 1 0]\n",
            " [1 1 0 1 1]\n",
            " [0 1 1 0 1]\n",
            " [0 0 1 1 0]]\n"
          ]
        }
      ],
      "source": [
        "import numpy as np\n",
        "import networkx as nx\n",
        "\n",
        "edges = [(0, 1), (0, 2), (1, 2), (1, 3), (2, 3), (2, 4), (3, 4)]\n",
        "G = nx.Graph(edges)\n",
        "\n",
        "# Adjacency Matrix\n",
        "A = nx.adjacency_matrix(G).todense()\n",
        "print(\"Adjacency Matrix:\\n\", A)\n"
      ]
    },
    {
      "cell_type": "code",
      "execution_count": null,
      "metadata": {
        "colab": {
          "base_uri": "https://localhost:8080/"
        },
        "id": "gVTEJX48wdk1",
        "outputId": "e99c8fcd-0fe9-44ca-d7c2-dd0b4050305a"
      },
      "outputs": [
        {
          "output_type": "stream",
          "name": "stdout",
          "text": [
            "Degree Matrix:\n",
            " [[2 0 0 0 0]\n",
            " [0 3 0 0 0]\n",
            " [0 0 4 0 0]\n",
            " [0 0 0 3 0]\n",
            " [0 0 0 0 2]]\n"
          ]
        }
      ],
      "source": [
        "D = np.diag([d for _, d in G.degree()])\n",
        "print(\"Degree Matrix:\\n\", D)\n"
      ]
    },
    {
      "cell_type": "code",
      "execution_count": null,
      "metadata": {
        "colab": {
          "base_uri": "https://localhost:8080/"
        },
        "id": "P7zLHQKOwovz",
        "outputId": "2f8c3b34-5fba-469b-a791-8d1c4800a543"
      },
      "outputs": [
        {
          "output_type": "stream",
          "name": "stdout",
          "text": [
            "Laplacian Matrix:\n",
            " [[ 2 -1 -1  0  0]\n",
            " [-1  3 -1 -1  0]\n",
            " [-1 -1  4 -1 -1]\n",
            " [ 0 -1 -1  3 -1]\n",
            " [ 0  0 -1 -1  2]]\n"
          ]
        }
      ],
      "source": [
        "L = D - A\n",
        "print(\"Laplacian Matrix:\\n\", L)\n"
      ]
    },
    {
      "cell_type": "code",
      "execution_count": null,
      "metadata": {
        "colab": {
          "base_uri": "https://localhost:8080/"
        },
        "id": "dklMTc-ywtRd",
        "outputId": "56f70b22-c31c-4e42-add9-8af7ff6773f2"
      },
      "outputs": [
        {
          "output_type": "stream",
          "name": "stdout",
          "text": [
            "Normalized Laplacian:\n",
            " [[ 1.         -0.40824829 -0.35355339  0.          0.        ]\n",
            " [-0.40824829  1.         -0.28867513 -0.33333333  0.        ]\n",
            " [-0.35355339 -0.28867513  1.         -0.28867513 -0.35355339]\n",
            " [ 0.         -0.33333333 -0.28867513  1.         -0.40824829]\n",
            " [ 0.          0.         -0.35355339 -0.40824829  1.        ]]\n"
          ]
        }
      ],
      "source": [
        "D_inv_sqrt = np.diag(1.0 / np.sqrt(np.diag(D)))\n",
        "L_sym = np.eye(len(G)) - D_inv_sqrt @ A @ D_inv_sqrt\n",
        "print(\"Normalized Laplacian:\\n\", L_sym)\n"
      ]
    },
    {
      "cell_type": "code",
      "execution_count": null,
      "metadata": {
        "colab": {
          "base_uri": "https://localhost:8080/"
        },
        "id": "3BkTrttFwyLf",
        "outputId": "f4d9ac06-8ae0-4a90-a92d-0e24be999c6c"
      },
      "outputs": [
        {
          "output_type": "stream",
          "name": "stdout",
          "text": [
            "Eigenvalues:\n",
            " [0.         1.58578644 3.         5.         4.41421356]\n"
          ]
        }
      ],
      "source": [
        "eigenvalues = np.linalg.eigvals(L)\n",
        "print(\"Eigenvalues:\\n\", eigenvalues)\n",
        "assert np.all(eigenvalues >= 0), \"Eigenvalues should be non-negative!\"\n"
      ]
    },
    {
      "cell_type": "code",
      "execution_count": null,
      "metadata": {
        "colab": {
          "base_uri": "https://localhost:8080/",
          "height": 472
        },
        "id": "YM8p2vY7wzHs",
        "outputId": "bb5c3a60-02f7-4c94-d75a-bd2b9e2501a0"
      },
      "outputs": [
        {
          "output_type": "display_data",
          "data": {
            "text/plain": [
              "<Figure size 640x480 with 1 Axes>"
            ],
            "image/png": "[encoded data removed]"
          },
          "metadata": {}
        }
      ],
      "source": [
        "import matplotlib.pyplot as plt\n",
        "\n",
        "degree_sequence = [d for _, d in G.degree()]\n",
        "plt.hist(degree_sequence, bins=np.arange(min(degree_sequence), max(degree_sequence) + 2))\n",
        "plt.title(\"Degree Distribution\")\n",
        "plt.xlabel(\"Degree\")\n",
        "plt.ylabel(\"Count\")\n",
        "plt.show()\n"
      ]
    },
    {
      "cell_type": "markdown",
      "metadata": {
        "id": "bSB9z2vOxUWX"
      },
      "source": [
        "**Question 2: GCN and ChebNet Implementation**"
      ]
    },
    {
      "cell_type": "code",
      "source": [
        "!pip install torch torchvision\n",
        "!pip install torch-geometric\n"
      ],
      "metadata": {
        "colab": {
          "base_uri": "https://localhost:8080/"
        },
        "id": "zGzYHUxUQhVe",
        "outputId": "f8898c84-74cf-4d47-bdca-a2ef4a5c8aca"
      },
      "execution_count": null,
      "outputs": [
        {
          "output_type": "stream",
          "name": "stdout",
          "text": [
            "Requirement already satisfied: torch in /usr/local/lib/python3.10/dist-packages (2.5.1+cu121)\n",
            "Requirement already satisfied: torchvision in /usr/local/lib/python3.10/dist-packages (0.20.1+cu121)\n",
            "Requirement already satisfied: filelock in /usr/local/lib/python3.10/dist-packages (from torch) (3.16.1)\n",
            "Requirement already satisfied: typing-extensions>=4.8.0 in /usr/local/lib/python3.10/dist-packages (from torch) (4.12.2)\n",
            "Requirement already satisfied: networkx in /usr/local/lib/python3.10/dist-packages (from torch) (3.4.2)\n",
            "Requirement already satisfied: jinja2 in /usr/local/lib/python3.10/dist-packages (from torch) (3.1.4)\n",
            "Requirement already satisfied: fsspec in /usr/local/lib/python3.10/dist-packages (from torch) (2024.10.0)\n",
            "Requirement already satisfied: sympy==1.13.1 in /usr/local/lib/python3.10/dist-packages (from torch) (1.13.1)\n",
            "Requirement already satisfied: mpmath<1.4,>=1.1.0 in /usr/local/lib/python3.10/dist-packages (from sympy==1.13.1->torch) (1.3.0)\n",
            "Requirement already satisfied: numpy in /usr/local/lib/python3.10/dist-packages (from torchvision) (1.26.4)\n",
            "Requirement already satisfied: pillow!=8.3.*,>=5.3.0 in /usr/local/lib/python3.10/dist-packages (from torchvision) (11.0.0)\n",
            "Requirement already satisfied: MarkupSafe>=2.0 in /usr/local/lib/python3.10/dist-packages (from jinja2->torch) (3.0.2)\n",
            "Collecting torch-geometric\n",
            "  Downloading torch_geometric-2.6.1-py3-none-any.whl.metadata (63 kB)\n",
            "\u001b[2K     \u001b[90m━━━━━━━━━━━━━━━━━━━━━━━━━━━━━━━━━━━━━━━━\u001b[0m \u001b[32m63.1/63.1 kB\u001b[0m \u001b[31m1.7 MB/s\u001b[0m eta \u001b[36m0:00:00\u001b[0m\n",
            "\u001b[?25hRequirement already satisfied: aiohttp in /usr/local/lib/python3.10/dist-packages (from torch-geometric) (3.11.2)\n",
            "Requirement already satisfied: fsspec in /usr/local/lib/python3.10/dist-packages (from torch-geometric) (2024.10.0)\n",
            "Requirement already satisfied: jinja2 in /usr/local/lib/python3.10/dist-packages (from torch-geometric) (3.1.4)\n",
            "Requirement already satisfied: numpy in /usr/local/lib/python3.10/dist-packages (from torch-geometric) (1.26.4)\n",
            "Requirement already satisfied: psutil>=5.8.0 in /usr/local/lib/python3.10/dist-packages (from torch-geometric) (5.9.5)\n",
            "Requirement already satisfied: pyparsing in /usr/local/lib/python3.10/dist-packages (from torch-geometric) (3.2.0)\n",
            "Requirement already satisfied: requests in /usr/local/lib/python3.10/dist-packages (from torch-geometric) (2.32.3)\n",
            "Requirement already satisfied: tqdm in /usr/local/lib/python3.10/dist-packages (from torch-geometric) (4.66.6)\n",
            "Requirement already satisfied: aiohappyeyeballs>=2.3.0 in /usr/local/lib/python3.10/dist-packages (from aiohttp->torch-geometric) (2.4.3)\n",
            "Requirement already satisfied: aiosignal>=1.1.2 in /usr/local/lib/python3.10/dist-packages (from aiohttp->torch-geometric) (1.3.1)\n",
            "Requirement already satisfied: attrs>=17.3.0 in /usr/local/lib/python3.10/dist-packages (from aiohttp->torch-geometric) (24.2.0)\n",
            "Requirement already satisfied: frozenlist>=1.1.1 in /usr/local/lib/python3.10/dist-packages (from aiohttp->torch-geometric) (1.5.0)\n",
            "Requirement already satisfied: multidict<7.0,>=4.5 in /usr/local/lib/python3.10/dist-packages (from aiohttp->torch-geometric) (6.1.0)\n",
            "Requirement already satisfied: propcache>=0.2.0 in /usr/local/lib/python3.10/dist-packages (from aiohttp->torch-geometric) (0.2.0)\n",
            "Requirement already satisfied: yarl<2.0,>=1.17.0 in /usr/local/lib/python3.10/dist-packages (from aiohttp->torch-geometric) (1.17.2)\n",
            "Requirement already satisfied: async-timeout<6.0,>=4.0 in /usr/local/lib/python3.10/dist-packages (from aiohttp->torch-geometric) (4.0.3)\n",
            "Requirement already satisfied: MarkupSafe>=2.0 in /usr/local/lib/python3.10/dist-packages (from jinja2->torch-geometric) (3.0.2)\n",
            "Requirement already satisfied: charset-normalizer<4,>=2 in /usr/local/lib/python3.10/dist-packages (from requests->torch-geometric) (3.4.0)\n",
            "Requirement already satisfied: idna<4,>=2.5 in /usr/local/lib/python3.10/dist-packages (from requests->torch-geometric) (3.10)\n",
            "Requirement already satisfied: urllib3<3,>=1.21.1 in /usr/local/lib/python3.10/dist-packages (from requests->torch-geometric) (2.2.3)\n",
            "Requirement already satisfied: certifi>=2017.4.17 in /usr/local/lib/python3.10/dist-packages (from requests->torch-geometric) (2024.8.30)\n",
            "Requirement already satisfied: typing-extensions>=4.1.0 in /usr/local/lib/python3.10/dist-packages (from multidict<7.0,>=4.5->aiohttp->torch-geometric) (4.12.2)\n",
            "Downloading torch_geometric-2.6.1-py3-none-any.whl (1.1 MB)\n",
            "\u001b[2K   \u001b[90m━━━━━━━━━━━━━━━━━━━━━━━━━━━━━━━━━━━━━━━━\u001b[0m \u001b[32m1.1/1.1 MB\u001b[0m \u001b[31m18.1 MB/s\u001b[0m eta \u001b[36m0:00:00\u001b[0m\n",
            "\u001b[?25hInstalling collected packages: torch-geometric\n",
            "Successfully installed torch-geometric-2.6.1\n"
          ]
        }
      ]
    },
    {
      "cell_type": "markdown",
      "source": [
        "Q2.A"
      ],
      "metadata": {
        "id": "cjNU2Cpla1uO"
      }
    },
    {
      "cell_type": "markdown",
      "source": [
        "* **Train a GCN on the Cora dataset using the GCNConv layer from the\n",
        "torch geometric.nn library.**\n",
        "*  **Report the training accuracy, validation\n",
        "accuracy, and test accuracy**"
      ],
      "metadata": {
        "id": "YI5Mlq3KiA1Y"
      }
    },
    {
      "cell_type": "code",
      "source": [
        "import torch\n",
        "import torch.nn.functional as F\n",
        "from torch_geometric.datasets import Planetoid\n",
        "from torch_geometric.nn import GCNConv\n",
        "\n",
        "# Load Cora dataset\n",
        "dataset = Planetoid(root=\"/tmp/Cora\", name=\"Cora\")\n",
        "data = dataset[0]\n",
        "\n",
        "# Define GCN model\n",
        "class GCN(torch.nn.Module):\n",
        "    def __init__(self):\n",
        "        super(GCN, self).__init__()\n",
        "        self.conv1 = GCNConv(dataset.num_node_features, 16)\n",
        "        self.conv2 = GCNConv(16, dataset.num_classes)\n",
        "\n",
        "    def forward(self, data):\n",
        "        x, edge_index = data.x, data.edge_index\n",
        "        x = self.conv1(x, edge_index).relu()\n",
        "        x = F.dropout(x, training=self.training)\n",
        "        x = self.conv2(x, edge_index)\n",
        "        return F.log_softmax(x, dim=1)\n",
        "\n",
        "# Model, optimizer, and loss function\n",
        "model = GCN()\n",
        "optimizer = torch.optim.Adam(model.parameters(), lr=0.01, weight_decay=5e-4)\n",
        "\n",
        "# Training loop\n",
        "def train():\n",
        "    model.train()\n",
        "    optimizer.zero_grad()\n",
        "    out = model(data)\n",
        "    loss = F.nll_loss(out[data.train_mask], data.y[data.train_mask])\n",
        "    loss.backward()\n",
        "    optimizer.step()\n",
        "    return loss.item()\n",
        "\n",
        "# Test function\n",
        "def test():\n",
        "    model.eval()\n",
        "    out = model(data)\n",
        "    pred = out.argmax(dim=1)\n",
        "    accs = []\n",
        "    for mask in [data.train_mask, data.val_mask, data.test_mask]:\n",
        "        correct = (pred[mask] == data.y[mask]).sum()\n",
        "        accs.append(int(correct) / int(mask.sum()))\n",
        "    return accs\n",
        "\n",
        "# Run training and testing\n",
        "for epoch in range(100):\n",
        "    loss = train()\n",
        "    train_acc, val_acc, test_acc = test()\n",
        "    if epoch % 10 == 0:\n",
        "        print(f\"Epoch {epoch:03d}, Loss: {loss:.4f}, Train Acc: {train_acc:.4f}, Val Acc: {val_acc:.4f}, Test Acc: {test_acc:.4f}\")\n",
        "\n",
        "print(f\"Final Results - Train Acc: {train_acc:.4f}, Val Acc: {val_acc:.4f}, Test Acc: {test_acc:.4f}\")\n"
      ],
      "metadata": {
        "colab": {
          "base_uri": "https://localhost:8080/"
        },
        "id": "tU38ZRyhasOy",
        "outputId": "efe68e21-3158-4728-933f-023a5411a314"
      },
      "execution_count": null,
      "outputs": [
        {
          "output_type": "stream",
          "name": "stdout",
          "text": [
            "Epoch 000, Loss: 1.9440, Train Acc: 0.6286, Val Acc: 0.3640, Test Acc: 0.3760\n",
            "Epoch 010, Loss: 0.7084, Train Acc: 0.9786, Val Acc: 0.7540, Test Acc: 0.7840\n",
            "Epoch 020, Loss: 0.1984, Train Acc: 1.0000, Val Acc: 0.7720, Test Acc: 0.7950\n",
            "Epoch 030, Loss: 0.1231, Train Acc: 1.0000, Val Acc: 0.7600, Test Acc: 0.7790\n",
            "Epoch 040, Loss: 0.0760, Train Acc: 1.0000, Val Acc: 0.7600, Test Acc: 0.7880\n",
            "Epoch 050, Loss: 0.0460, Train Acc: 1.0000, Val Acc: 0.7740, Test Acc: 0.8040\n",
            "Epoch 060, Loss: 0.0406, Train Acc: 1.0000, Val Acc: 0.7620, Test Acc: 0.7980\n",
            "Epoch 070, Loss: 0.0409, Train Acc: 1.0000, Val Acc: 0.7720, Test Acc: 0.7990\n",
            "Epoch 080, Loss: 0.0358, Train Acc: 1.0000, Val Acc: 0.7680, Test Acc: 0.8010\n",
            "Epoch 090, Loss: 0.0522, Train Acc: 1.0000, Val Acc: 0.7700, Test Acc: 0.8130\n",
            "Final Results - Train Acc: 1.0000, Val Acc: 0.7620, Test Acc: 0.8120\n"
          ]
        }
      ]
    },
    {
      "cell_type": "code",
      "source": [],
      "metadata": {
        "id": "6RASYbJJco5u"
      },
      "execution_count": null,
      "outputs": []
    },
    {
      "cell_type": "markdown",
      "source": [
        "Q2. B"
      ],
      "metadata": {
        "id": "OiF3tTbFUXMr"
      }
    },
    {
      "cell_type": "markdown",
      "source": [
        "*  **Train a ChebNet on the Cora dataset using the ChebConv layer from the\n",
        "torch geometric.nn library.**\n",
        "*  **Report the training accuracy, validation\n",
        "accuracy, and test accuracy**"
      ],
      "metadata": {
        "id": "BitmBBP5iRDd"
      }
    },
    {
      "cell_type": "code",
      "source": [
        "import torch\n",
        "import torch.nn.functional as F\n",
        "from torch_geometric.datasets import Planetoid\n",
        "from torch_geometric.nn import ChebConv\n",
        "\n",
        "# Load the Cora dataset\n",
        "dataset = Planetoid(root=\"/tmp/Cora\", name=\"Cora\")\n",
        "data = dataset[0]\n",
        "\n",
        "# Define ChebNet model\n",
        "class ChebNet(torch.nn.Module):\n",
        "    def __init__(self, K=3):  # K is the order of the Chebyshev polynomial\n",
        "        super(ChebNet, self).__init__()\n",
        "        self.conv1 = ChebConv(dataset.num_node_features, 16, K)\n",
        "        self.conv2 = ChebConv(16, dataset.num_classes, K)\n",
        "\n",
        "    def forward(self, data):\n",
        "        x, edge_index = data.x, data.edge_index\n",
        "        x = self.conv1(x, edge_index).relu()\n",
        "        x = F.dropout(x, training=self.training)\n",
        "        x = self.conv2(x, edge_index)\n",
        "        return F.log_softmax(x, dim=1)\n",
        "\n",
        "# Instantiate the model, optimizer, and loss function\n",
        "model = ChebNet(K=3)  # Set K (order of Chebyshev polynomial) to 3\n",
        "optimizer = torch.optim.Adam(model.parameters(), lr=0.01, weight_decay=5e-4)\n",
        "\n",
        "# Training function\n",
        "def train():\n",
        "    model.train()\n",
        "    optimizer.zero_grad()\n",
        "    out = model(data)\n",
        "    loss = F.nll_loss(out[data.train_mask], data.y[data.train_mask])\n",
        "    loss.backward()\n",
        "    optimizer.step()\n",
        "    return loss.item()\n",
        "\n",
        "# Testing function\n",
        "def test():\n",
        "    model.eval()\n",
        "    out = model(data)\n",
        "    pred = out.argmax(dim=1)\n",
        "    accs = []\n",
        "    for mask in [data.train_mask, data.val_mask, data.test_mask]:\n",
        "        correct = (pred[mask] == data.y[mask]).sum()\n",
        "        accs.append(int(correct) / int(mask.sum()))\n",
        "    return accs\n",
        "\n",
        "# Train and evaluate\n",
        "for epoch in range(200):  # Train for 200 epochs\n",
        "    loss = train()\n",
        "    train_acc, val_acc, test_acc = test()\n",
        "    if epoch % 10 == 0:\n",
        "        print(f\"Epoch {epoch:03d}, Loss: {loss:.4f}, Train Acc: {train_acc:.4f}, Val Acc: {val_acc:.4f}, Test Acc: {test_acc:.4f}\")\n",
        "\n",
        "# Final results\n",
        "print(f\"Final Results - Train Acc: {train_acc:.4f}, Val Acc: {val_acc:.4f}, Test Acc: {test_acc:.4f}\")\n"
      ],
      "metadata": {
        "colab": {
          "base_uri": "https://localhost:8080/"
        },
        "id": "DZwDfg5la9iL",
        "outputId": "862323b4-84af-4ae8-e7e2-0f62d6fd0669"
      },
      "execution_count": null,
      "outputs": [
        {
          "output_type": "stream",
          "name": "stdout",
          "text": [
            "Epoch 000, Loss: 1.9376, Train Acc: 0.7357, Val Acc: 0.2440, Test Acc: 0.2510\n",
            "Epoch 010, Loss: 0.1102, Train Acc: 1.0000, Val Acc: 0.6880, Test Acc: 0.7180\n",
            "Epoch 020, Loss: 0.0259, Train Acc: 1.0000, Val Acc: 0.6900, Test Acc: 0.7220\n",
            "Epoch 030, Loss: 0.0140, Train Acc: 1.0000, Val Acc: 0.7120, Test Acc: 0.7300\n",
            "Epoch 040, Loss: 0.0065, Train Acc: 1.0000, Val Acc: 0.7180, Test Acc: 0.7390\n",
            "Epoch 050, Loss: 0.0178, Train Acc: 1.0000, Val Acc: 0.7140, Test Acc: 0.7420\n",
            "Epoch 060, Loss: 0.0031, Train Acc: 1.0000, Val Acc: 0.7120, Test Acc: 0.7470\n",
            "Epoch 070, Loss: 0.0232, Train Acc: 1.0000, Val Acc: 0.7200, Test Acc: 0.7570\n",
            "Epoch 080, Loss: 0.0097, Train Acc: 1.0000, Val Acc: 0.7200, Test Acc: 0.7580\n",
            "Epoch 090, Loss: 0.0128, Train Acc: 1.0000, Val Acc: 0.7060, Test Acc: 0.7540\n",
            "Epoch 100, Loss: 0.0035, Train Acc: 1.0000, Val Acc: 0.7260, Test Acc: 0.7560\n",
            "Epoch 110, Loss: 0.0083, Train Acc: 1.0000, Val Acc: 0.7440, Test Acc: 0.7760\n",
            "Epoch 120, Loss: 0.0097, Train Acc: 1.0000, Val Acc: 0.7360, Test Acc: 0.7710\n",
            "Epoch 130, Loss: 0.0086, Train Acc: 1.0000, Val Acc: 0.7420, Test Acc: 0.7600\n",
            "Epoch 140, Loss: 0.0164, Train Acc: 1.0000, Val Acc: 0.7440, Test Acc: 0.7620\n",
            "Epoch 150, Loss: 0.0056, Train Acc: 1.0000, Val Acc: 0.7520, Test Acc: 0.7640\n",
            "Epoch 160, Loss: 0.0071, Train Acc: 1.0000, Val Acc: 0.7580, Test Acc: 0.7740\n",
            "Epoch 170, Loss: 0.0089, Train Acc: 1.0000, Val Acc: 0.7560, Test Acc: 0.7730\n",
            "Epoch 180, Loss: 0.0072, Train Acc: 1.0000, Val Acc: 0.7540, Test Acc: 0.7680\n",
            "Epoch 190, Loss: 0.0094, Train Acc: 1.0000, Val Acc: 0.7700, Test Acc: 0.7880\n",
            "Final Results - Train Acc: 1.0000, Val Acc: 0.7540, Test Acc: 0.7740\n"
          ]
        }
      ]
    },
    {
      "cell_type": "markdown",
      "source": [
        "Q2. C"
      ],
      "metadata": {
        "id": "A4qqqYkUT-YI"
      }
    },
    {
      "cell_type": "markdown",
      "source": [
        "**Accuracy Results:**\n",
        "\n",
        "*  GCN: Typically performs well on small datasets like Cora, achieving high test accuracy due to its simple architecture and ability to capture node representations effectively.\n",
        "*   ChebNet: Often matches or slightly exceeds GCN's performance on tasks with smooth node features because it incorporates higher-order graph structure through Chebyshev polynomials."
      ],
      "metadata": {
        "id": "hnZnSQT0Skrn"
      }
    },
    {
      "cell_type": "markdown",
      "source": [
        "Observed Differences:\n",
        "\n",
        "* GCN:\n",
        "Easier to train and tune due to fewer hyperparameters.\n",
        "Relies on first-order neighbors, so it might miss long-range dependencies.\n",
        "ChebNet:\n",
        "More flexible with the parameter K (polynomial order), allowing for control over neighborhood size.\n",
        "Captures higher-order relationships but is computationally more intensive for larger K.\n",
        "Insights:\n",
        "\n",
        "* For the Cora dataset, GCN and ChebNet often achieve similar performance as the graph is small and well-structured.\n",
        "ChebNet may outperform GCN slightly when K is optimized, as it captures global graph structure better.\n",
        "Discussion Points:\n",
        "Use GCN for simpler tasks or smaller datasets due to its efficiency.\n",
        "Use ChebNet when capturing higher-order relationships is crucial, especially in larger graphs."
      ],
      "metadata": {
        "id": "lD0GzzAkVKNQ"
      }
    },
    {
      "cell_type": "markdown",
      "source": [
        "Q2. D"
      ],
      "metadata": {
        "id": "yej4zTK2WBW3"
      }
    },
    {
      "cell_type": "markdown",
      "source": [
        "Explanation\n",
        "Hyperparameter Variations:\n",
        "\n",
        "* Order\n",
        "𝐾\n",
        "K: Controls the range of neighbor nodes captured by ChebNet.\n",
        "Hidden Layer Size: Adjusts the capacity of the network to learn node embeddings.\n",
        "Training Loop:\n",
        "\n",
        "* Trains the model for 200 epochs.\n",
        "Logs performance every 50 epochs for monitoring.\n",
        "Results:\n",
        "\n",
        "* Prints train, validation, and test accuracies for each experiment.\n",
        "Summarizes all results for easier comparison."
      ],
      "metadata": {
        "id": "k1X_d0p4bAPY"
      }
    },
    {
      "cell_type": "code",
      "source": [
        "import torch\n",
        "import torch.nn.functional as F\n",
        "from torch_geometric.datasets import Planetoid\n",
        "from torch_geometric.nn import ChebConv\n",
        "\n",
        "# Load Cora dataset\n",
        "dataset = Planetoid(root=\"/tmp/Cora\", name=\"Cora\")\n",
        "data = dataset[0]\n",
        "\n",
        "# Define ChebNet model with flexible hyperparameters\n",
        "class ChebNet(torch.nn.Module):\n",
        "    def __init__(self, hidden_dim=16, K=3):\n",
        "        super(ChebNet, self).__init__()\n",
        "        self.conv1 = ChebConv(dataset.num_node_features, hidden_dim, K)\n",
        "        self.conv2 = ChebConv(hidden_dim, dataset.num_classes, K)\n",
        "\n",
        "    def forward(self, data):\n",
        "        x, edge_index = data.x, data.edge_index\n",
        "        x = self.conv1(x, edge_index).relu()\n",
        "        x = F.dropout(x, training=self.training)\n",
        "        x = self.conv2(x, edge_index)\n",
        "        return F.log_softmax(x, dim=1)\n",
        "\n",
        "# Training function\n",
        "def train(model, optimizer):\n",
        "    model.train()\n",
        "    optimizer.zero_grad()\n",
        "    out = model(data)\n",
        "    loss = F.nll_loss(out[data.train_mask], data.y[data.train_mask])\n",
        "    loss.backward()\n",
        "    optimizer.step()\n",
        "    return loss.item()\n",
        "\n",
        "# Testing function\n",
        "def test(model):\n",
        "    model.eval()\n",
        "    out = model(data)\n",
        "    pred = out.argmax(dim=1)\n",
        "    accs = []\n",
        "    for mask in [data.train_mask, data.val_mask, data.test_mask]:\n",
        "        correct = (pred[mask] == data.y[mask]).sum()\n",
        "        accs.append(int(correct) / int(mask.sum()))\n",
        "    return accs\n",
        "\n",
        "# Experiment with different hyperparameters\n",
        "results = []\n",
        "for K in [2, 3, 5,8]:  # Orders of the Chebyshev polynomial\n",
        "    for hidden_dim in [16, 32, 64,128]:  # Hidden layer sizes\n",
        "        print(f\"\\nExperimenting with K={K}, Hidden Dim={hidden_dim}\")\n",
        "        model = ChebNet(hidden_dim=hidden_dim, K=K)\n",
        "        optimizer = torch.optim.Adam(model.parameters(), lr=0.01, weight_decay=5e-4)\n",
        "\n",
        "        # Train the model\n",
        "        for epoch in range(200):  # Train for 200 epochs\n",
        "            loss = train(model, optimizer)\n",
        "            if epoch % 50 == 0:\n",
        "                train_acc, val_acc, test_acc = test(model)\n",
        "                print(f\"Epoch {epoch:03d}, Loss: {loss:.4f}, Train Acc: {train_acc:.4f}, Val Acc: {val_acc:.4f}, Test Acc: {test_acc:.4f}\")\n",
        "\n",
        "        # Final test accuracies\n",
        "        train_acc, val_acc, test_acc = test(model)\n",
        "        results.append((K, hidden_dim, train_acc, val_acc, test_acc))\n",
        "        print(f\"Final Results - K={K}, Hidden Dim={hidden_dim}, Train Acc: {train_acc:.4f}, Val Acc: {val_acc:.4f}, Test Acc: {test_acc:.4f}\")\n",
        "\n",
        "# Display all results\n",
        "print(\"\\nSummary of Experiments:\")\n",
        "print(\"K\\tHidden Dim\\tTrain Acc\\tVal Acc\\t\\tTest Acc\")\n",
        "for K, hidden_dim, train_acc, val_acc, test_acc in results:\n",
        "    print(f\"{K}\\t{hidden_dim}\\t\\t{train_acc:.4f}\\t\\t{val_acc:.4f}\\t\\t{test_acc:.4f}\")\n"
      ],
      "metadata": {
        "colab": {
          "base_uri": "https://localhost:8080/"
        },
        "id": "pQTkl0_tQwzg",
        "outputId": "24295b6d-a027-4583-b45e-10dd6d364696"
      },
      "execution_count": null,
      "outputs": [
        {
          "output_type": "stream",
          "name": "stdout",
          "text": [
            "\n",
            "Experimenting with K=2, Hidden Dim=16\n",
            "Epoch 000, Loss: 1.9892, Train Acc: 0.5500, Val Acc: 0.3000, Test Acc: 0.3160\n",
            "Epoch 050, Loss: 0.0291, Train Acc: 1.0000, Val Acc: 0.7620, Test Acc: 0.7830\n",
            "Epoch 100, Loss: 0.0157, Train Acc: 1.0000, Val Acc: 0.7800, Test Acc: 0.8010\n",
            "Epoch 150, Loss: 0.0307, Train Acc: 1.0000, Val Acc: 0.7880, Test Acc: 0.8060\n",
            "Final Results - K=2, Hidden Dim=16, Train Acc: 1.0000, Val Acc: 0.7740, Test Acc: 0.8000\n",
            "\n",
            "Experimenting with K=2, Hidden Dim=32\n",
            "Epoch 000, Loss: 1.9812, Train Acc: 0.9071, Val Acc: 0.4600, Test Acc: 0.4670\n",
            "Epoch 050, Loss: 0.0099, Train Acc: 1.0000, Val Acc: 0.7660, Test Acc: 0.7750\n",
            "Epoch 100, Loss: 0.0102, Train Acc: 1.0000, Val Acc: 0.7640, Test Acc: 0.7920\n",
            "Epoch 150, Loss: 0.0113, Train Acc: 1.0000, Val Acc: 0.7760, Test Acc: 0.7900\n",
            "Final Results - K=2, Hidden Dim=32, Train Acc: 1.0000, Val Acc: 0.7780, Test Acc: 0.7940\n",
            "\n",
            "Experimenting with K=2, Hidden Dim=64\n",
            "Epoch 000, Loss: 2.0038, Train Acc: 0.9286, Val Acc: 0.4780, Test Acc: 0.5030\n",
            "Epoch 050, Loss: 0.0024, Train Acc: 1.0000, Val Acc: 0.7520, Test Acc: 0.7550\n",
            "Epoch 100, Loss: 0.0063, Train Acc: 1.0000, Val Acc: 0.7620, Test Acc: 0.7810\n",
            "Epoch 150, Loss: 0.0044, Train Acc: 1.0000, Val Acc: 0.7720, Test Acc: 0.7890\n",
            "Final Results - K=2, Hidden Dim=64, Train Acc: 1.0000, Val Acc: 0.7780, Test Acc: 0.7940\n",
            "\n",
            "Experimenting with K=2, Hidden Dim=128\n",
            "Epoch 000, Loss: 1.9760, Train Acc: 0.9714, Val Acc: 0.4500, Test Acc: 0.5060\n",
            "Epoch 050, Loss: 0.0038, Train Acc: 1.0000, Val Acc: 0.7380, Test Acc: 0.7620\n",
            "Epoch 100, Loss: 0.0037, Train Acc: 1.0000, Val Acc: 0.7560, Test Acc: 0.7800\n",
            "Epoch 150, Loss: 0.0031, Train Acc: 1.0000, Val Acc: 0.7460, Test Acc: 0.7780\n",
            "Final Results - K=2, Hidden Dim=128, Train Acc: 1.0000, Val Acc: 0.7580, Test Acc: 0.7800\n",
            "\n",
            "Experimenting with K=3, Hidden Dim=16\n",
            "Epoch 000, Loss: 2.0004, Train Acc: 0.7429, Val Acc: 0.3660, Test Acc: 0.3860\n",
            "Epoch 050, Loss: 0.0115, Train Acc: 1.0000, Val Acc: 0.7500, Test Acc: 0.7580\n",
            "Epoch 100, Loss: 0.0247, Train Acc: 1.0000, Val Acc: 0.7700, Test Acc: 0.7660\n",
            "Epoch 150, Loss: 0.0062, Train Acc: 1.0000, Val Acc: 0.7740, Test Acc: 0.7820\n",
            "Final Results - K=3, Hidden Dim=16, Train Acc: 1.0000, Val Acc: 0.7860, Test Acc: 0.7930\n",
            "\n",
            "Experimenting with K=3, Hidden Dim=32\n",
            "Epoch 000, Loss: 2.0370, Train Acc: 0.8643, Val Acc: 0.3680, Test Acc: 0.3530\n",
            "Epoch 050, Loss: 0.0019, Train Acc: 1.0000, Val Acc: 0.7420, Test Acc: 0.7830\n",
            "Epoch 100, Loss: 0.0058, Train Acc: 1.0000, Val Acc: 0.7660, Test Acc: 0.7980\n",
            "Epoch 150, Loss: 0.0040, Train Acc: 1.0000, Val Acc: 0.7820, Test Acc: 0.7940\n",
            "Final Results - K=3, Hidden Dim=32, Train Acc: 1.0000, Val Acc: 0.7820, Test Acc: 0.8050\n",
            "\n",
            "Experimenting with K=3, Hidden Dim=64\n",
            "Epoch 000, Loss: 1.9937, Train Acc: 0.9857, Val Acc: 0.5040, Test Acc: 0.5260\n",
            "Epoch 050, Loss: 0.0013, Train Acc: 1.0000, Val Acc: 0.7600, Test Acc: 0.7880\n",
            "Epoch 100, Loss: 0.0025, Train Acc: 1.0000, Val Acc: 0.7880, Test Acc: 0.8050\n",
            "Epoch 150, Loss: 0.0030, Train Acc: 1.0000, Val Acc: 0.7840, Test Acc: 0.8110\n",
            "Final Results - K=3, Hidden Dim=64, Train Acc: 1.0000, Val Acc: 0.8080, Test Acc: 0.8030\n",
            "\n",
            "Experimenting with K=3, Hidden Dim=128\n",
            "Epoch 000, Loss: 2.0600, Train Acc: 0.9571, Val Acc: 0.4660, Test Acc: 0.5070\n",
            "Epoch 050, Loss: 0.0017, Train Acc: 1.0000, Val Acc: 0.7280, Test Acc: 0.7340\n",
            "Epoch 100, Loss: 0.0027, Train Acc: 1.0000, Val Acc: 0.7780, Test Acc: 0.8050\n",
            "Epoch 150, Loss: 0.0024, Train Acc: 1.0000, Val Acc: 0.7700, Test Acc: 0.8010\n",
            "Final Results - K=3, Hidden Dim=128, Train Acc: 1.0000, Val Acc: 0.7760, Test Acc: 0.7990\n",
            "\n",
            "Experimenting with K=5, Hidden Dim=16\n",
            "Epoch 000, Loss: 2.1061, Train Acc: 0.7857, Val Acc: 0.2260, Test Acc: 0.2050\n",
            "Epoch 050, Loss: 0.0072, Train Acc: 1.0000, Val Acc: 0.6320, Test Acc: 0.6320\n",
            "Epoch 100, Loss: 0.0043, Train Acc: 1.0000, Val Acc: 0.6680, Test Acc: 0.6540\n",
            "Epoch 150, Loss: 0.0068, Train Acc: 1.0000, Val Acc: 0.7220, Test Acc: 0.7220\n",
            "Final Results - K=5, Hidden Dim=16, Train Acc: 1.0000, Val Acc: 0.7300, Test Acc: 0.7460\n",
            "\n",
            "Experimenting with K=5, Hidden Dim=32\n",
            "Epoch 000, Loss: 2.0777, Train Acc: 0.9429, Val Acc: 0.3620, Test Acc: 0.3590\n",
            "Epoch 050, Loss: 0.0060, Train Acc: 1.0000, Val Acc: 0.6940, Test Acc: 0.6750\n",
            "Epoch 100, Loss: 0.0024, Train Acc: 1.0000, Val Acc: 0.7340, Test Acc: 0.7430\n",
            "Epoch 150, Loss: 0.0028, Train Acc: 1.0000, Val Acc: 0.7580, Test Acc: 0.7590\n",
            "Final Results - K=5, Hidden Dim=32, Train Acc: 1.0000, Val Acc: 0.7660, Test Acc: 0.7830\n",
            "\n",
            "Experimenting with K=5, Hidden Dim=64\n",
            "Epoch 000, Loss: 2.1351, Train Acc: 0.8714, Val Acc: 0.2480, Test Acc: 0.2810\n",
            "Epoch 050, Loss: 0.0010, Train Acc: 1.0000, Val Acc: 0.7460, Test Acc: 0.7410\n",
            "Epoch 100, Loss: 0.0038, Train Acc: 1.0000, Val Acc: 0.7460, Test Acc: 0.7510\n",
            "Epoch 150, Loss: 0.0033, Train Acc: 1.0000, Val Acc: 0.7620, Test Acc: 0.7670\n",
            "Final Results - K=5, Hidden Dim=64, Train Acc: 1.0000, Val Acc: 0.7760, Test Acc: 0.7760\n",
            "\n",
            "Experimenting with K=5, Hidden Dim=128\n",
            "Epoch 000, Loss: 2.1329, Train Acc: 0.9071, Val Acc: 0.4600, Test Acc: 0.4650\n",
            "Epoch 050, Loss: 0.0011, Train Acc: 1.0000, Val Acc: 0.6920, Test Acc: 0.7020\n",
            "Epoch 100, Loss: 0.0014, Train Acc: 1.0000, Val Acc: 0.7120, Test Acc: 0.7270\n",
            "Epoch 150, Loss: 0.0019, Train Acc: 1.0000, Val Acc: 0.7440, Test Acc: 0.7630\n",
            "Final Results - K=5, Hidden Dim=128, Train Acc: 1.0000, Val Acc: 0.7600, Test Acc: 0.7670\n",
            "\n",
            "Experimenting with K=8, Hidden Dim=16\n",
            "Epoch 000, Loss: 2.2053, Train Acc: 0.7643, Val Acc: 0.2140, Test Acc: 0.1990\n",
            "Epoch 050, Loss: 0.0017, Train Acc: 1.0000, Val Acc: 0.4980, Test Acc: 0.4870\n",
            "Epoch 100, Loss: 0.0166, Train Acc: 1.0000, Val Acc: 0.5680, Test Acc: 0.5510\n",
            "Epoch 150, Loss: 0.0186, Train Acc: 1.0000, Val Acc: 0.6120, Test Acc: 0.6090\n",
            "Final Results - K=8, Hidden Dim=16, Train Acc: 1.0000, Val Acc: 0.6900, Test Acc: 0.6660\n",
            "\n",
            "Experimenting with K=8, Hidden Dim=32\n",
            "Epoch 000, Loss: 2.4866, Train Acc: 0.4714, Val Acc: 0.3220, Test Acc: 0.3420\n",
            "Epoch 050, Loss: 0.0034, Train Acc: 1.0000, Val Acc: 0.5280, Test Acc: 0.5150\n",
            "Epoch 100, Loss: 0.0049, Train Acc: 1.0000, Val Acc: 0.6280, Test Acc: 0.6080\n",
            "Epoch 150, Loss: 0.0019, Train Acc: 1.0000, Val Acc: 0.6460, Test Acc: 0.6270\n",
            "Final Results - K=8, Hidden Dim=32, Train Acc: 1.0000, Val Acc: 0.6740, Test Acc: 0.6660\n",
            "\n",
            "Experimenting with K=8, Hidden Dim=64\n",
            "Epoch 000, Loss: 2.5145, Train Acc: 0.9357, Val Acc: 0.2180, Test Acc: 0.2060\n",
            "Epoch 050, Loss: 0.0013, Train Acc: 1.0000, Val Acc: 0.5500, Test Acc: 0.5390\n",
            "Epoch 100, Loss: 0.0015, Train Acc: 1.0000, Val Acc: 0.7260, Test Acc: 0.7030\n",
            "Epoch 150, Loss: 0.0036, Train Acc: 1.0000, Val Acc: 0.6920, Test Acc: 0.7010\n",
            "Final Results - K=8, Hidden Dim=64, Train Acc: 1.0000, Val Acc: 0.7320, Test Acc: 0.7500\n",
            "\n",
            "Experimenting with K=8, Hidden Dim=128\n",
            "Epoch 000, Loss: 2.4626, Train Acc: 0.7571, Val Acc: 0.2400, Test Acc: 0.2170\n",
            "Epoch 050, Loss: 0.0020, Train Acc: 1.0000, Val Acc: 0.4960, Test Acc: 0.5100\n",
            "Epoch 100, Loss: 0.0014, Train Acc: 1.0000, Val Acc: 0.6520, Test Acc: 0.6460\n",
            "Epoch 150, Loss: 0.0015, Train Acc: 1.0000, Val Acc: 0.7040, Test Acc: 0.7080\n",
            "Final Results - K=8, Hidden Dim=128, Train Acc: 1.0000, Val Acc: 0.7180, Test Acc: 0.7190\n",
            "\n",
            "Summary of Experiments:\n",
            "K\tHidden Dim\tTrain Acc\tVal Acc\t\tTest Acc\n",
            "2\t16\t\t1.0000\t\t0.7740\t\t0.8000\n",
            "2\t32\t\t1.0000\t\t0.7780\t\t0.7940\n",
            "2\t64\t\t1.0000\t\t0.7780\t\t0.7940\n",
            "2\t128\t\t1.0000\t\t0.7580\t\t0.7800\n",
            "3\t16\t\t1.0000\t\t0.7860\t\t0.7930\n",
            "3\t32\t\t1.0000\t\t0.7820\t\t0.8050\n",
            "3\t64\t\t1.0000\t\t0.8080\t\t0.8030\n",
            "3\t128\t\t1.0000\t\t0.7760\t\t0.7990\n",
            "5\t16\t\t1.0000\t\t0.7300\t\t0.7460\n",
            "5\t32\t\t1.0000\t\t0.7660\t\t0.7830\n",
            "5\t64\t\t1.0000\t\t0.7760\t\t0.7760\n",
            "5\t128\t\t1.0000\t\t0.7600\t\t0.7670\n",
            "8\t16\t\t1.0000\t\t0.6900\t\t0.6660\n",
            "8\t32\t\t1.0000\t\t0.6740\t\t0.6660\n",
            "8\t64\t\t1.0000\t\t0.7320\t\t0.7500\n",
            "8\t128\t\t1.0000\t\t0.7180\t\t0.7190\n"
          ]
        }
      ]
    },
    {
      "cell_type": "code",
      "source": [],
      "metadata": {
        "id": "qMlGt-L9WEH0"
      },
      "execution_count": null,
      "outputs": []
    }
  ],
  "metadata": {
    "colab": {
      "provenance": []
    },
    "kernelspec": {
      "display_name": "Python 3",
      "name": "python3"
    },
    "language_info": {
      "name": "python"
    }
  },
  "nbformat": 4,
  "nbformat_minor": 0
}